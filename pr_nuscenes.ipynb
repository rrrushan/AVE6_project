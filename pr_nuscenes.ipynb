{
 "cells": [
  {
   "cell_type": "code",
   "execution_count": 1,
   "metadata": {},
   "outputs": [],
   "source": [
    "import json\n",
    "\n",
    "# Opening JSON file\n",
    "f = open('/home/carla/admt_student/team3_ss23/data/NuScenes/v1.0-trainval_meta/v1.0-trainval/sample_data.json')\n",
    "  \n",
    "# returns JSON object as \n",
    "# a dictionary\n",
    "data = json.load(f)"
   ]
  },
  {
   "cell_type": "code",
   "execution_count": 4,
   "metadata": {},
   "outputs": [],
   "source": [
    "import os\n",
    "\n",
    "# camera_files_path = \"/home/carla/admt_student/team3_ss23/data/NuScenes/samples\"\n",
    "camera_files_path = \"/home/carla/admt_student/team3_ss23/data/NuScenes/v1.0-trainval01_keyframes/samples\"\n",
    "final_file_list = []\n",
    "for folder in os.listdir(camera_files_path):\n",
    "    if folder.split(\"_\")[0] == \"CAM\":\n",
    "        main_folder_name = os.path.join(\"samples\", folder)\n",
    "        for image in os.listdir(os.path.join(camera_files_path, folder)):\n",
    "            final_file_list.append(os.path.join(main_folder_name, image))\n"
   ]
  },
  {
   "cell_type": "code",
   "execution_count": 6,
   "metadata": {},
   "outputs": [
    {
     "name": "stdout",
     "output_type": "stream",
     "text": [
      "['samples/CAM_BACK/n015-2018-07-24-10-42-41+0800__CAM_BACK__1532400237637525.jpg', 'samples/CAM_BACK/n015-2018-07-18-11-50-34+0800__CAM_BACK__1531886001037525.jpg', 'samples/CAM_BACK/n015-2018-07-18-11-50-34+0800__CAM_BACK__1531886222937525.jpg', 'samples/CAM_BACK/n008-2018-08-01-15-52-19-0400__CAM_BACK__1533153476437558.jpg', 'samples/CAM_BACK/n015-2018-07-24-11-13-19+0800__CAM_BACK__1532402162187534.jpg', 'samples/CAM_BACK/n015-2018-07-24-11-13-19+0800__CAM_BACK__1532402160187525.jpg', 'samples/CAM_BACK/n008-2018-08-01-15-16-36-0400__CAM_BACK__1533151256637558.jpg', 'samples/CAM_BACK/n015-2018-07-18-11-18-34+0800__CAM_BACK__1531883989387525.jpg', 'samples/CAM_BACK/n015-2018-07-18-11-41-49+0800__CAM_BACK__1531885403887525.jpg', 'samples/CAM_BACK/n015-2018-07-18-11-18-34+0800__CAM_BACK__1531884165937525.jpg', 'samples/CAM_BACK/n015-2018-07-24-10-42-41+0800__CAM_BACK__1532400523637525.jpg', 'samples/CAM_BACK/n015-2018-07-18-11-18-34+0800__CAM_BACK__1531884286887525.jpg', 'samples/CAM_BACK/n015-2018-07-18-11-41-49+0800__CAM_BACK__1531885768937525.jpg', 'samples/CAM_BACK/n015-2018-07-24-11-03-52+0800__CAM_BACK__1532401501538410.jpg', 'samples/CAM_BACK/n015-2018-07-18-11-50-34+0800__CAM_BACK__1531886017937525.jpg', 'samples/CAM_BACK/n015-2018-07-18-11-50-34+0800__CAM_BACK__1531886327937525.jpg', 'samples/CAM_BACK/n015-2018-07-24-10-42-41+0800__CAM_BACK__1532400240687702.jpg', 'samples/CAM_BACK/n015-2018-07-24-11-22-45+0800__CAM_BACK__1532402599687525.jpg', 'samples/CAM_BACK/n008-2018-08-01-15-52-19-0400__CAM_BACK__1533153565787558.jpg', 'samples/CAM_BACK/n015-2018-07-18-11-50-34+0800__CAM_BACK__1531886161537525.jpg']\n"
     ]
    },
    {
     "data": {
      "text/plain": [
       "20256"
      ]
     },
     "execution_count": 6,
     "metadata": {},
     "output_type": "execute_result"
    }
   ],
   "source": [
    "print(final_file_list[:20])\n",
    "len(final_file_list)"
   ]
  },
  {
   "cell_type": "code",
   "execution_count": 7,
   "metadata": {},
   "outputs": [
    {
     "name": "stdout",
     "output_type": "stream",
     "text": [
      "<class 'list'>\n"
     ]
    }
   ],
   "source": [
    "# Iterating through the json\n",
    "# list\n",
    "print(type(data))\n",
    "final_data_list = []\n",
    "for index, single_data in enumerate(data):\n",
    "    filename = single_data[\"filename\"].split(\"/\")\n",
    "    sensor_name = filename[1].split(\"_\")[0]\n",
    "    # print(sensor_name)\n",
    "    if filename[0] == \"samples\" and sensor_name == \"CAM\":\n",
    "        if single_data[\"filename\"] in final_file_list:\n",
    "            final_data_list.append(single_data)\n",
    "    \n",
    "  \n",
    "# Closing file\n",
    "f.close()"
   ]
  },
  {
   "cell_type": "code",
   "execution_count": 16,
   "metadata": {},
   "outputs": [
    {
     "name": "stdout",
     "output_type": "stream",
     "text": [
      "10120\n",
      "3376\n"
     ]
    }
   ],
   "source": [
    "print(len(os.listdir(\"/home/carla/admt_student/team3_ss23/data/NuScenes/samples/CAM_BACK\")))\n",
    "print(len(os.listdir(\"/home/carla/admt_student/team3_ss23/data/NuScenes/v1.0-trainval01_keyframes/samples/CAM_BACK\")))"
   ]
  },
  {
   "cell_type": "code",
   "execution_count": 8,
   "metadata": {},
   "outputs": [
    {
     "name": "stdout",
     "output_type": "stream",
     "text": [
      "[{'token': '6ff2a727cdd447c5956582f420c5a80c', 'sample_token': 'ae4e0c3aa3f24c91aab599e8b54e9264', 'ego_pose_token': '6ff2a727cdd447c5956582f420c5a80c', 'calibrated_sensor_token': '2e64b091b3b146a390c2606b9081343c', 'timestamp': 1531883531412477, 'fileformat': 'jpg', 'is_key_frame': True, 'height': 900, 'width': 1600, 'filename': 'samples/CAM_FRONT/n015-2018-07-18-11-07-57+0800__CAM_FRONT__1531883531412477.jpg', 'prev': 'db5322f5b9fb48e28963b8febecb45d4', 'next': '846915c17afd44de8031c9dfdbd85be2'}, {'token': '020d7b4f858147558106c504f7f31bef', 'sample_token': 'e93e98b63d3b40209056d129dc53ceee', 'ego_pose_token': '020d7b4f858147558106c504f7f31bef', 'calibrated_sensor_token': '2e64b091b3b146a390c2606b9081343c', 'timestamp': 1531883530412470, 'fileformat': 'jpg', 'is_key_frame': True, 'height': 900, 'width': 1600, 'filename': 'samples/CAM_FRONT/n015-2018-07-18-11-07-57+0800__CAM_FRONT__1531883530412470.jpg', 'prev': '', 'next': 'caa2bfad0b8a4a8090cb0b803352cbc8'}, {'token': '8d9b8b382be84198841f9409d7d38557', 'sample_token': 'ba94cb79ebc74614bc2442185cb53c26', 'ego_pose_token': '8d9b8b382be84198841f9409d7d38557', 'calibrated_sensor_token': '2e64b091b3b146a390c2606b9081343c', 'timestamp': 1531883532412464, 'fileformat': 'jpg', 'is_key_frame': True, 'height': 900, 'width': 1600, 'filename': 'samples/CAM_FRONT/n015-2018-07-18-11-07-57+0800__CAM_FRONT__1531883532412464.jpg', 'prev': '70834eebeda045389c7804b04caeadd6', 'next': '4030bc8f438045cc9a33d3e4958a60ba'}, {'token': '27460c51459c46a6b8a94525793ff813', 'sample_token': '14d5adfe50bb4445bc3aa5fe607691a8', 'ego_pose_token': '27460c51459c46a6b8a94525793ff813', 'calibrated_sensor_token': '2e64b091b3b146a390c2606b9081343c', 'timestamp': 1531883530912460, 'fileformat': 'jpg', 'is_key_frame': True, 'height': 900, 'width': 1600, 'filename': 'samples/CAM_FRONT/n015-2018-07-18-11-07-57+0800__CAM_FRONT__1531883530912460.jpg', 'prev': '3f79b6459436470799616c6abf614398', 'next': '0a86299633b249ce8a760d70a5c26865'}, {'token': 'f1826933e09349c0bb5606bd3555cb43', 'sample_token': '917a76cd5f564387bcacc22537010630', 'ego_pose_token': 'f1826933e09349c0bb5606bd3555cb43', 'calibrated_sensor_token': '2e64b091b3b146a390c2606b9081343c', 'timestamp': 1531883535412467, 'fileformat': 'jpg', 'is_key_frame': True, 'height': 900, 'width': 1600, 'filename': 'samples/CAM_FRONT/n015-2018-07-18-11-07-57+0800__CAM_FRONT__1531883535412467.jpg', 'prev': '2fb6717119ae48249073cecea9438222', 'next': '0115b4437b854f9eb7a28664f176456a'}, {'token': '5af8e4f03044406a9abd5bffd940952a', 'sample_token': '8de7ec06e1ac48c689c4d24d6cc64fd7', 'ego_pose_token': '5af8e4f03044406a9abd5bffd940952a', 'calibrated_sensor_token': '2e64b091b3b146a390c2606b9081343c', 'timestamp': 1531883531912467, 'fileformat': 'jpg', 'is_key_frame': True, 'height': 900, 'width': 1600, 'filename': 'samples/CAM_FRONT/n015-2018-07-18-11-07-57+0800__CAM_FRONT__1531883531912467.jpg', 'prev': '25db8c98aec847dc95d9606db554f865', 'next': '5d30572b5f4c44218b96d3bd85c26cc4'}, {'token': 'd3c1ddf65b0c4e43955ec56f447022fb', 'sample_token': '1e19d0a5189b46f4b62aa47508f2983e', 'ego_pose_token': 'd3c1ddf65b0c4e43955ec56f447022fb', 'calibrated_sensor_token': '2e64b091b3b146a390c2606b9081343c', 'timestamp': 1531883534412469, 'fileformat': 'jpg', 'is_key_frame': True, 'height': 900, 'width': 1600, 'filename': 'samples/CAM_FRONT/n015-2018-07-18-11-07-57+0800__CAM_FRONT__1531883534412469.jpg', 'prev': 'e42e0d967c994383b21c76407ed8c409', 'next': '88b99cbc00784b4985a4f3b473bfd2f9'}, {'token': '58d25273f5cd4c1fa3b4caf38ec21ee2', 'sample_token': '4dfab70f0b3f405bbf17f7c534d2dd91', 'ego_pose_token': '58d25273f5cd4c1fa3b4caf38ec21ee2', 'calibrated_sensor_token': '2e64b091b3b146a390c2606b9081343c', 'timestamp': 1531883533012462, 'fileformat': 'jpg', 'is_key_frame': True, 'height': 900, 'width': 1600, 'filename': 'samples/CAM_FRONT/n015-2018-07-18-11-07-57+0800__CAM_FRONT__1531883533012462.jpg', 'prev': 'f3af98dcc5dd46e28192f2fdccc60d5b', 'next': 'ef6d048bf0174a3280e3259ee463a0a9'}, {'token': '7ad5d6b946ec4c8daf9ce2938e419ba7', 'sample_token': 'c36eb85918a84a788e236f5c9eef2b05', 'ego_pose_token': '7ad5d6b946ec4c8daf9ce2938e419ba7', 'calibrated_sensor_token': '2e64b091b3b146a390c2606b9081343c', 'timestamp': 1531883536412465, 'fileformat': 'jpg', 'is_key_frame': True, 'height': 900, 'width': 1600, 'filename': 'samples/CAM_FRONT/n015-2018-07-18-11-07-57+0800__CAM_FRONT__1531883536412465.jpg', 'prev': 'e9a72616fa2c4333b7463014856445f1', 'next': 'b33f363153544818bf7ca25ecd57a82f'}, {'token': 'bf22e1dfe3c340879a22a428103ed16a', 'sample_token': 'b8002d4effb540c0b1bb70addf423f32', 'ego_pose_token': 'bf22e1dfe3c340879a22a428103ed16a', 'calibrated_sensor_token': '2e64b091b3b146a390c2606b9081343c', 'timestamp': 1531883533912468, 'fileformat': 'jpg', 'is_key_frame': True, 'height': 900, 'width': 1600, 'filename': 'samples/CAM_FRONT/n015-2018-07-18-11-07-57+0800__CAM_FRONT__1531883533912468.jpg', 'prev': '7eaad2391e9f4131a12633b344b26f41', 'next': '9b1884d4a0284f22a9279ba8022eafea'}]\n"
     ]
    },
    {
     "data": {
      "text/plain": [
       "20256"
      ]
     },
     "execution_count": 8,
     "metadata": {},
     "output_type": "execute_result"
    }
   ],
   "source": [
    "print(final_data_list[:10])\n",
    "len(final_data_list)"
   ]
  },
  {
   "cell_type": "code",
   "execution_count": null,
   "metadata": {},
   "outputs": [],
   "source": [
    "with open('/home/carla/admt_student/team3_ss23/data/NuScenes/v1.0-trainval_meta/v1.0-trainval/sample_data_modified.json', \"w\") as fout:\n",
    "    json.dump(final_data_list, fout)\n"
   ]
  }
 ],
 "metadata": {
  "kernelspec": {
   "display_name": "venv",
   "language": "python",
   "name": "python3"
  },
  "language_info": {
   "codemirror_mode": {
    "name": "ipython",
    "version": 3
   },
   "file_extension": ".py",
   "mimetype": "text/x-python",
   "name": "python",
   "nbconvert_exporter": "python",
   "pygments_lexer": "ipython3",
   "version": "3.8.10"
  },
  "orig_nbformat": 4
 },
 "nbformat": 4,
 "nbformat_minor": 2
}
